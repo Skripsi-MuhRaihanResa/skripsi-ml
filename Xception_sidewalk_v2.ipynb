{
  "cells": [
    {
      "cell_type": "code",
      "execution_count": null,
      "metadata": {
        "colab": {
          "base_uri": "https://localhost:8080/"
        },
        "id": "NiU07sJiY3b9",
        "outputId": "9fe06d96-bd41-4ec6-d68a-04a4d5969bc0"
      },
      "outputs": [],
      "source": [
        "!pip install keras_preprocessing"
      ]
    },
    {
      "cell_type": "code",
      "execution_count": null,
      "metadata": {
        "id": "qNRBhGMnZopI"
      },
      "outputs": [],
      "source": [
        "import os\n",
        "import urllib.request\n",
        "import zipfile\n",
        "import tensorflow as tf\n",
        "from tensorflow.keras.optimizers import Adam\n",
        "from tensorflow.keras import layers, Model\n",
        "from tensorflow.keras.preprocessing.image import ImageDataGenerator\n",
        "from tensorflow.keras.applications import Xception"
      ]
    },
    {
      "cell_type": "code",
      "execution_count": null,
      "metadata": {
        "id": "Cjj77wyLZuXE"
      },
      "outputs": [],
      "source": [
        "# Unduh dan Ekstrak Dataset\n",
        "data_url = 'https://drive.usercontent.google.com/download?id=1T2vteOAvBrj23MK3ry_ynLWli4_gNbqe&export=download&confirm=t'\n",
        "urllib.request.urlretrieve(data_url, 'Datasets.zip')\n",
        "with zipfile.ZipFile('Datasets.zip', 'r') as zip_ref:\n",
        "    zip_ref.extractall('Datasets')\n",
        "\n",
        "base_dir = 'Datasets'\n",
        "train_path = os.path.join(base_dir, 'Dataset/train')\n",
        "val_path = os.path.join(base_dir, 'Dataset/validation')\n",
        "test_path = os.path.join(base_dir, 'Dataset/test')"
      ]
    },
    {
      "cell_type": "code",
      "execution_count": null,
      "metadata": {
        "colab": {
          "base_uri": "https://localhost:8080/"
        },
        "id": "5CAw6RNLaAIF",
        "outputId": "c8295505-ec10-437a-90bc-36f49343e87a"
      },
      "outputs": [],
      "source": [
        "# ImageDataGenerator\n",
        "train_datagen = ImageDataGenerator(\n",
        "    rescale=1.0/255.0,\n",
        "    rotation_range=30,\n",
        "    width_shift_range=0.3,\n",
        "    height_shift_range=0.2,\n",
        "    shear_range=0.3,\n",
        "    zoom_range=0.2,\n",
        "    horizontal_flip=True,\n",
        "    fill_mode='nearest'\n",
        ")\n",
        "\n",
        "train_generator = train_datagen.flow_from_directory(\n",
        "    train_path,\n",
        "    target_size=(299, 299),\n",
        "    batch_size=64,\n",
        "    class_mode='categorical'\n",
        ")\n",
        "\n",
        "val_datagen = ImageDataGenerator(rescale=1.0/255.0)\n",
        "validation_generator = val_datagen.flow_from_directory(\n",
        "    val_path,\n",
        "    target_size=(299, 299),\n",
        "    batch_size=64,\n",
        "    class_mode='categorical'\n",
        ")\n",
        "\n",
        "test_datagen = ImageDataGenerator(rescale=1.0/255.0)\n",
        "test_generator = test_datagen.flow_from_directory(\n",
        "    test_path,\n",
        "    target_size=(299, 299),\n",
        "    batch_size=64,\n",
        "    class_mode='categorical'\n",
        ")\n"
      ]
    },
    {
      "cell_type": "code",
      "execution_count": null,
      "metadata": {
        "colab": {
          "base_uri": "https://localhost:8080/"
        },
        "id": "fpNr_oJcaHfn",
        "outputId": "8565aa78-706c-409b-b016-eea9167a2aab"
      },
      "outputs": [],
      "source": [
        "# Xception Base Model\n",
        "pre_trained_model = Xception(input_shape=(299, 299, 3),\n",
        "                              include_top=False,\n",
        "                              weights='imagenet')\n",
        "\n",
        "# Bekukan semua layer kecuali 30 terakhir\n",
        "for layer in pre_trained_model.layers[:-30]:\n",
        "    layer.trainable = False\n",
        "for layer in pre_trained_model.layers[-30:]:\n",
        "    layer.trainable = True\n",
        "\n",
        "last_layer_output = pre_trained_model.output\n",
        "print(f'Output shape of the Xception base model: {last_layer_output.shape}')"
      ]
    },
    {
      "cell_type": "code",
      "execution_count": null,
      "metadata": {
        "colab": {
          "base_uri": "https://localhost:8080/"
        },
        "id": "VrUNgPhxaXSe",
        "outputId": "0e8c8404-817d-4537-856a-c8398eae1e04"
      },
      "outputs": [
        {
          "name": "stderr",
          "output_type": "stream",
          "text": [
            "/usr/local/lib/python3.11/dist-packages/keras/src/trainers/data_adapters/py_dataset_adapter.py:121: UserWarning: Your `PyDataset` class should call `super().__init__(**kwargs)` in its constructor. `**kwargs` can include `workers`, `use_multiprocessing`, `max_queue_size`. Do not pass these arguments to `fit()`, as they will be ignored.\n",
            "  self._warn_if_super_not_called()\n"
          ]
        },
        {
          "name": "stdout",
          "output_type": "stream",
          "text": [
            "Epoch 1/120\n",
            "\u001b[1m17/17\u001b[0m \u001b[32m━━━━━━━━━━━━━━━━━━━━\u001b[0m\u001b[37m\u001b[0m \u001b[1m0s\u001b[0m 3s/step - acc: 0.5303 - loss: 0.9414"
          ]
        },
        {
          "name": "stderr",
          "output_type": "stream",
          "text": [
            "WARNING:absl:You are saving your model as an HDF5 file via `model.save()` or `keras.saving.save_model(model)`. This file format is considered legacy. We recommend using instead the native Keras format, e.g. `model.save('my_model.keras')` or `keras.saving.save_model(model, 'my_model.keras')`. \n"
          ]
        },
        {
          "name": "stdout",
          "output_type": "stream",
          "text": [
            "\b\b\b\b\b\b\b\b\b\b\b\b\b\b\b\b\b\b\b\b\b\b\b\b\b\b\b\b\b\b\b\b\b\b\b\b\b\b\b\b\b\b\b\b\b\b\b\b\b\b\b\b\b\b\b\b\b\b\b\b\b\b\b\b\b\b\r\u001b[1m17/17\u001b[0m \u001b[32m━━━━━━━━━━━━━━━━━━━━\u001b[0m\u001b[37m\u001b[0m \u001b[1m134s\u001b[0m 5s/step - acc: 0.5366 - loss: 0.9313 - val_acc: 0.7651 - val_loss: 0.7078\n",
            "Epoch 2/120\n",
            "\u001b[1m17/17\u001b[0m \u001b[32m━━━━━━━━━━━━━━━━━━━━\u001b[0m\u001b[37m\u001b[0m \u001b[1m67s\u001b[0m 2s/step - acc: 0.7758 - loss: 0.5459 - val_acc: 0.6812 - val_loss: 1.6884\n",
            "Epoch 3/120\n",
            "\u001b[1m17/17\u001b[0m \u001b[32m━━━━━━━━━━━━━━━━━━━━\u001b[0m\u001b[37m\u001b[0m \u001b[1m40s\u001b[0m 2s/step - acc: 0.8276 - loss: 0.4242 - val_acc: 0.7181 - val_loss: 1.3257\n",
            "Epoch 4/120\n",
            "\u001b[1m17/17\u001b[0m \u001b[32m━━━━━━━━━━━━━━━━━━━━\u001b[0m\u001b[37m\u001b[0m \u001b[1m0s\u001b[0m 2s/step - acc: 0.8684 - loss: 0.3441"
          ]
        },
        {
          "name": "stderr",
          "output_type": "stream",
          "text": [
            "WARNING:absl:You are saving your model as an HDF5 file via `model.save()` or `keras.saving.save_model(model)`. This file format is considered legacy. We recommend using instead the native Keras format, e.g. `model.save('my_model.keras')` or `keras.saving.save_model(model, 'my_model.keras')`. \n"
          ]
        },
        {
          "name": "stdout",
          "output_type": "stream",
          "text": [
            "\b\b\b\b\b\b\b\b\b\b\b\b\b\b\b\b\b\b\b\b\b\b\b\b\b\b\b\b\b\b\b\b\b\b\b\b\b\b\b\b\b\b\b\b\b\b\b\b\b\b\b\b\b\b\b\b\b\b\b\b\b\b\b\b\b\b\r\u001b[1m17/17\u001b[0m \u001b[32m━━━━━━━━━━━━━━━━━━━━\u001b[0m\u001b[37m\u001b[0m \u001b[1m40s\u001b[0m 2s/step - acc: 0.8686 - loss: 0.3441 - val_acc: 0.8557 - val_loss: 0.6203\n",
            "Epoch 5/120\n",
            "\u001b[1m17/17\u001b[0m \u001b[32m━━━━━━━━━━━━━━━━━━━━\u001b[0m\u001b[37m\u001b[0m \u001b[1m40s\u001b[0m 2s/step - acc: 0.9192 - loss: 0.2600 - val_acc: 0.7953 - val_loss: 0.8034\n",
            "Epoch 6/120\n",
            "\u001b[1m17/17\u001b[0m \u001b[32m━━━━━━━━━━━━━━━━━━━━\u001b[0m\u001b[37m\u001b[0m \u001b[1m40s\u001b[0m 2s/step - acc: 0.8954 - loss: 0.2891 - val_acc: 0.8423 - val_loss: 0.8745\n",
            "Epoch 7/120\n",
            "\u001b[1m17/17\u001b[0m \u001b[32m━━━━━━━━━━━━━━━━━━━━\u001b[0m\u001b[37m\u001b[0m \u001b[1m39s\u001b[0m 2s/step - acc: 0.9114 - loss: 0.2537 - val_acc: 0.7215 - val_loss: 1.0568\n",
            "Epoch 8/120\n",
            "\u001b[1m17/17\u001b[0m \u001b[32m━━━━━━━━━━━━━━━━━━━━\u001b[0m\u001b[37m\u001b[0m \u001b[1m40s\u001b[0m 2s/step - acc: 0.8920 - loss: 0.2671 - val_acc: 0.8121 - val_loss: 0.5208\n",
            "Epoch 9/120\n",
            "\u001b[1m17/17\u001b[0m \u001b[32m━━━━━━━━━━━━━━━━━━━━\u001b[0m\u001b[37m\u001b[0m \u001b[1m40s\u001b[0m 2s/step - acc: 0.9392 - loss: 0.1704 - val_acc: 0.8188 - val_loss: 0.5659\n",
            "Epoch 10/120\n",
            "\u001b[1m17/17\u001b[0m \u001b[32m━━━━━━━━━━━━━━━━━━━━\u001b[0m\u001b[37m\u001b[0m \u001b[1m40s\u001b[0m 2s/step - acc: 0.9279 - loss: 0.1684 - val_acc: 0.7685 - val_loss: 0.9334\n",
            "Epoch 11/120\n",
            "\u001b[1m17/17\u001b[0m \u001b[32m━━━━━━━━━━━━━━━━━━━━\u001b[0m\u001b[37m\u001b[0m \u001b[1m41s\u001b[0m 2s/step - acc: 0.9494 - loss: 0.1846 - val_acc: 0.8188 - val_loss: 1.0008\n",
            "Epoch 12/120\n",
            "\u001b[1m17/17\u001b[0m \u001b[32m━━━━━━━━━━━━━━━━━━━━\u001b[0m\u001b[37m\u001b[0m \u001b[1m41s\u001b[0m 2s/step - acc: 0.9568 - loss: 0.1120 - val_acc: 0.8423 - val_loss: 1.1027\n",
            "Epoch 13/120\n",
            "\u001b[1m17/17\u001b[0m \u001b[32m━━━━━━━━━━━━━━━━━━━━\u001b[0m\u001b[37m\u001b[0m \u001b[1m41s\u001b[0m 2s/step - acc: 0.9506 - loss: 0.1334 - val_acc: 0.8356 - val_loss: 0.9202\n",
            "Epoch 14/120\n",
            "\u001b[1m17/17\u001b[0m \u001b[32m━━━━━━━━━━━━━━━━━━━━\u001b[0m\u001b[37m\u001b[0m \u001b[1m41s\u001b[0m 2s/step - acc: 0.9513 - loss: 0.1282 - val_acc: 0.8322 - val_loss: 0.6289\n",
            "Epoch 15/120\n",
            "\u001b[1m17/17\u001b[0m \u001b[32m━━━━━━━━━━━━━━━━━━━━\u001b[0m\u001b[37m\u001b[0m \u001b[1m40s\u001b[0m 2s/step - acc: 0.9719 - loss: 0.0867 - val_acc: 0.7886 - val_loss: 0.9353\n",
            "Epoch 16/120\n",
            "\u001b[1m17/17\u001b[0m \u001b[32m━━━━━━━━━━━━━━━━━━━━\u001b[0m\u001b[37m\u001b[0m \u001b[1m41s\u001b[0m 2s/step - acc: 0.9586 - loss: 0.1240 - val_acc: 0.7416 - val_loss: 1.6352\n",
            "Epoch 17/120\n",
            "\u001b[1m17/17\u001b[0m \u001b[32m━━━━━━━━━━━━━━━━━━━━\u001b[0m\u001b[37m\u001b[0m \u001b[1m40s\u001b[0m 2s/step - acc: 0.9575 - loss: 0.0886 - val_acc: 0.8456 - val_loss: 0.7670\n",
            "Epoch 18/120\n",
            "\u001b[1m17/17\u001b[0m \u001b[32m━━━━━━━━━━━━━━━━━━━━\u001b[0m\u001b[37m\u001b[0m \u001b[1m40s\u001b[0m 2s/step - acc: 0.9758 - loss: 0.0835 - val_acc: 0.7617 - val_loss: 1.7495\n",
            "Epoch 19/120\n",
            "\u001b[1m17/17\u001b[0m \u001b[32m━━━━━━━━━━━━━━━━━━━━\u001b[0m\u001b[37m\u001b[0m \u001b[1m0s\u001b[0m 2s/step - acc: 0.9820 - loss: 0.0607"
          ]
        },
        {
          "name": "stderr",
          "output_type": "stream",
          "text": [
            "WARNING:absl:You are saving your model as an HDF5 file via `model.save()` or `keras.saving.save_model(model)`. This file format is considered legacy. We recommend using instead the native Keras format, e.g. `model.save('my_model.keras')` or `keras.saving.save_model(model, 'my_model.keras')`. \n"
          ]
        },
        {
          "name": "stdout",
          "output_type": "stream",
          "text": [
            "\b\b\b\b\b\b\b\b\b\b\b\b\b\b\b\b\b\b\b\b\b\b\b\b\b\b\b\b\b\b\b\b\b\b\b\b\b\b\b\b\b\b\b\b\b\b\b\b\b\b\b\b\b\b\b\b\b\b\b\b\b\b\b\b\b\b\r\u001b[1m17/17\u001b[0m \u001b[32m━━━━━━━━━━━━━━━━━━━━\u001b[0m\u001b[37m\u001b[0m \u001b[1m42s\u001b[0m 2s/step - acc: 0.9818 - loss: 0.0613 - val_acc: 0.8725 - val_loss: 0.7244\n",
            "Epoch 20/120\n",
            "\u001b[1m17/17\u001b[0m \u001b[32m━━━━━━━━━━━━━━━━━━━━\u001b[0m\u001b[37m\u001b[0m \u001b[1m39s\u001b[0m 2s/step - acc: 0.9798 - loss: 0.0575 - val_acc: 0.8624 - val_loss: 0.9922\n",
            "Epoch 21/120\n",
            "\u001b[1m17/17\u001b[0m \u001b[32m━━━━━━━━━━━━━━━━━━━━\u001b[0m\u001b[37m\u001b[0m \u001b[1m39s\u001b[0m 2s/step - acc: 0.9657 - loss: 0.0991 - val_acc: 0.7416 - val_loss: 1.7051\n",
            "Epoch 22/120\n",
            "\u001b[1m17/17\u001b[0m \u001b[32m━━━━━━━━━━━━━━━━━━━━\u001b[0m\u001b[37m\u001b[0m \u001b[1m41s\u001b[0m 2s/step - acc: 0.9745 - loss: 0.0888 - val_acc: 0.7919 - val_loss: 1.0156\n",
            "Epoch 23/120\n",
            "\u001b[1m17/17\u001b[0m \u001b[32m━━━━━━━━━━━━━━━━━━━━\u001b[0m\u001b[37m\u001b[0m \u001b[1m39s\u001b[0m 2s/step - acc: 0.9598 - loss: 0.1080 - val_acc: 0.8691 - val_loss: 0.5631\n",
            "Epoch 24/120\n",
            "\u001b[1m17/17\u001b[0m \u001b[32m━━━━━━━━━━━━━━━━━━━━\u001b[0m\u001b[37m\u001b[0m \u001b[1m40s\u001b[0m 2s/step - acc: 0.9880 - loss: 0.0570 - val_acc: 0.8624 - val_loss: 0.5286\n",
            "Epoch 25/120\n",
            "\u001b[1m17/17\u001b[0m \u001b[32m━━━━━━━━━━━━━━━━━━━━\u001b[0m\u001b[37m\u001b[0m \u001b[1m40s\u001b[0m 2s/step - acc: 0.9743 - loss: 0.0722 - val_acc: 0.8356 - val_loss: 0.7940\n",
            "Epoch 26/120\n",
            "\u001b[1m17/17\u001b[0m \u001b[32m━━━━━━━━━━━━━━━━━━━━\u001b[0m\u001b[37m\u001b[0m \u001b[1m40s\u001b[0m 2s/step - acc: 0.9733 - loss: 0.0671 - val_acc: 0.8490 - val_loss: 0.6932\n",
            "Epoch 27/120\n",
            "\u001b[1m17/17\u001b[0m \u001b[32m━━━━━━━━━━━━━━━━━━━━\u001b[0m\u001b[37m\u001b[0m \u001b[1m39s\u001b[0m 2s/step - acc: 0.9768 - loss: 0.0782 - val_acc: 0.7718 - val_loss: 1.5806\n",
            "Epoch 28/120\n",
            "\u001b[1m17/17\u001b[0m \u001b[32m━━━━━━━━━━━━━━━━━━━━\u001b[0m\u001b[37m\u001b[0m \u001b[1m0s\u001b[0m 2s/step - acc: 0.9755 - loss: 0.0672"
          ]
        },
        {
          "name": "stderr",
          "output_type": "stream",
          "text": [
            "WARNING:absl:You are saving your model as an HDF5 file via `model.save()` or `keras.saving.save_model(model)`. This file format is considered legacy. We recommend using instead the native Keras format, e.g. `model.save('my_model.keras')` or `keras.saving.save_model(model, 'my_model.keras')`. \n"
          ]
        },
        {
          "name": "stdout",
          "output_type": "stream",
          "text": [
            "\b\b\b\b\b\b\b\b\b\b\b\b\b\b\b\b\b\b\b\b\b\b\b\b\b\b\b\b\b\b\b\b\b\b\b\b\b\b\b\b\b\b\b\b\b\b\b\b\b\b\b\b\b\b\b\b\b\b\b\b\b\b\b\b\b\b\r\u001b[1m17/17\u001b[0m \u001b[32m━━━━━━━━━━━━━━━━━━━━\u001b[0m\u001b[37m\u001b[0m \u001b[1m42s\u001b[0m 2s/step - acc: 0.9757 - loss: 0.0671 - val_acc: 0.8758 - val_loss: 0.5947\n",
            "Epoch 29/120\n",
            "\u001b[1m17/17\u001b[0m \u001b[32m━━━━━━━━━━━━━━━━━━━━\u001b[0m\u001b[37m\u001b[0m \u001b[1m39s\u001b[0m 2s/step - acc: 0.9794 - loss: 0.0798 - val_acc: 0.8758 - val_loss: 0.5232\n",
            "Epoch 30/120\n",
            "\u001b[1m17/17\u001b[0m \u001b[32m━━━━━━━━━━━━━━━━━━━━\u001b[0m\u001b[37m\u001b[0m \u001b[1m39s\u001b[0m 2s/step - acc: 0.9902 - loss: 0.0299 - val_acc: 0.8523 - val_loss: 1.0154\n",
            "Epoch 31/120\n",
            "\u001b[1m17/17\u001b[0m \u001b[32m━━━━━━━━━━━━━━━━━━━━\u001b[0m\u001b[37m\u001b[0m \u001b[1m40s\u001b[0m 2s/step - acc: 0.9879 - loss: 0.0329 - val_acc: 0.8658 - val_loss: 0.9036\n",
            "Epoch 32/120\n",
            "\u001b[1m17/17\u001b[0m \u001b[32m━━━━━━━━━━━━━━━━━━━━\u001b[0m\u001b[37m\u001b[0m \u001b[1m40s\u001b[0m 2s/step - acc: 0.9786 - loss: 0.0711 - val_acc: 0.8523 - val_loss: 0.8488\n",
            "Epoch 33/120\n",
            "\u001b[1m17/17\u001b[0m \u001b[32m━━━━━━━━━━━━━━━━━━━━\u001b[0m\u001b[37m\u001b[0m \u001b[1m40s\u001b[0m 2s/step - acc: 0.9794 - loss: 0.0571 - val_acc: 0.8591 - val_loss: 0.7143\n",
            "Epoch 34/120\n",
            "\u001b[1m17/17\u001b[0m \u001b[32m━━━━━━━━━━━━━━━━━━━━\u001b[0m\u001b[37m\u001b[0m \u001b[1m39s\u001b[0m 2s/step - acc: 0.9897 - loss: 0.0329 - val_acc: 0.8490 - val_loss: 1.0357\n",
            "Epoch 35/120\n",
            "\u001b[1m17/17\u001b[0m \u001b[32m━━━━━━━━━━━━━━━━━━━━\u001b[0m\u001b[37m\u001b[0m \u001b[1m0s\u001b[0m 2s/step - acc: 0.9863 - loss: 0.0442"
          ]
        },
        {
          "name": "stderr",
          "output_type": "stream",
          "text": [
            "WARNING:absl:You are saving your model as an HDF5 file via `model.save()` or `keras.saving.save_model(model)`. This file format is considered legacy. We recommend using instead the native Keras format, e.g. `model.save('my_model.keras')` or `keras.saving.save_model(model, 'my_model.keras')`. \n"
          ]
        },
        {
          "name": "stdout",
          "output_type": "stream",
          "text": [
            "\b\b\b\b\b\b\b\b\b\b\b\b\b\b\b\b\b\b\b\b\b\b\b\b\b\b\b\b\b\b\b\b\b\b\b\b\b\b\b\b\b\b\b\b\b\b\b\b\b\b\b\b\b\b\b\b\b\b\b\b\b\b\b\b\b\b\r\u001b[1m17/17\u001b[0m \u001b[32m━━━━━━━━━━━━━━━━━━━━\u001b[0m\u001b[37m\u001b[0m \u001b[1m39s\u001b[0m 2s/step - acc: 0.9863 - loss: 0.0440 - val_acc: 0.8792 - val_loss: 0.9349\n",
            "Epoch 36/120\n",
            "\u001b[1m17/17\u001b[0m \u001b[32m━━━━━━━━━━━━━━━━━━━━\u001b[0m\u001b[37m\u001b[0m \u001b[1m41s\u001b[0m 2s/step - acc: 0.9886 - loss: 0.0292 - val_acc: 0.8691 - val_loss: 0.8369\n",
            "Epoch 37/120\n",
            "\u001b[1m17/17\u001b[0m \u001b[32m━━━━━━━━━━━━━━━━━━━━\u001b[0m\u001b[37m\u001b[0m \u001b[1m39s\u001b[0m 2s/step - acc: 0.9850 - loss: 0.0458 - val_acc: 0.8054 - val_loss: 1.0359\n",
            "Epoch 38/120\n",
            "\u001b[1m17/17\u001b[0m \u001b[32m━━━━━━━━━━━━━━━━━━━━\u001b[0m\u001b[37m\u001b[0m \u001b[1m39s\u001b[0m 2s/step - acc: 0.9874 - loss: 0.0481 - val_acc: 0.8591 - val_loss: 0.6675\n",
            "Epoch 39/120\n",
            "\u001b[1m17/17\u001b[0m \u001b[32m━━━━━━━━━━━━━━━━━━━━\u001b[0m\u001b[37m\u001b[0m \u001b[1m40s\u001b[0m 2s/step - acc: 0.9947 - loss: 0.0250 - val_acc: 0.8188 - val_loss: 0.8763\n",
            "Epoch 40/120\n",
            "\u001b[1m17/17\u001b[0m \u001b[32m━━━━━━━━━━━━━━━━━━━━\u001b[0m\u001b[37m\u001b[0m \u001b[1m38s\u001b[0m 2s/step - acc: 0.9851 - loss: 0.0509 - val_acc: 0.8389 - val_loss: 0.9486\n",
            "Epoch 41/120\n",
            "\u001b[1m17/17\u001b[0m \u001b[32m━━━━━━━━━━━━━━━━━━━━\u001b[0m\u001b[37m\u001b[0m \u001b[1m39s\u001b[0m 2s/step - acc: 0.9851 - loss: 0.0378 - val_acc: 0.8289 - val_loss: 1.0489\n",
            "Epoch 42/120\n",
            "\u001b[1m17/17\u001b[0m \u001b[32m━━━━━━━━━━━━━━━━━━━━\u001b[0m\u001b[37m\u001b[0m \u001b[1m39s\u001b[0m 2s/step - acc: 0.9905 - loss: 0.0223 - val_acc: 0.8356 - val_loss: 1.1847\n",
            "Epoch 43/120\n",
            "\u001b[1m17/17\u001b[0m \u001b[32m━━━━━━━━━━━━━━━━━━━━\u001b[0m\u001b[37m\u001b[0m \u001b[1m42s\u001b[0m 2s/step - acc: 0.9843 - loss: 0.0417 - val_acc: 0.8591 - val_loss: 0.6611\n",
            "Epoch 44/120\n",
            "\u001b[1m17/17\u001b[0m \u001b[32m━━━━━━━━━━━━━━━━━━━━\u001b[0m\u001b[37m\u001b[0m \u001b[1m39s\u001b[0m 2s/step - acc: 0.9936 - loss: 0.0400 - val_acc: 0.8624 - val_loss: 0.8845\n",
            "Epoch 45/120\n",
            "\u001b[1m17/17\u001b[0m \u001b[32m━━━━━━━━━━━━━━━━━━━━\u001b[0m\u001b[37m\u001b[0m \u001b[1m39s\u001b[0m 2s/step - acc: 0.9841 - loss: 0.0614 - val_acc: 0.7718 - val_loss: 1.4359\n",
            "Epoch 46/120\n",
            "\u001b[1m17/17\u001b[0m \u001b[32m━━━━━━━━━━━━━━━━━━━━\u001b[0m\u001b[37m\u001b[0m \u001b[1m41s\u001b[0m 2s/step - acc: 0.9889 - loss: 0.0280 - val_acc: 0.7987 - val_loss: 1.2506\n",
            "Epoch 47/120\n",
            "\u001b[1m17/17\u001b[0m \u001b[32m━━━━━━━━━━━━━━━━━━━━\u001b[0m\u001b[37m\u001b[0m \u001b[1m39s\u001b[0m 2s/step - acc: 0.9906 - loss: 0.0337 - val_acc: 0.8289 - val_loss: 0.7154\n",
            "Epoch 48/120\n",
            "\u001b[1m17/17\u001b[0m \u001b[32m━━━━━━━━━━━━━━━━━━━━\u001b[0m\u001b[37m\u001b[0m \u001b[1m39s\u001b[0m 2s/step - acc: 0.9835 - loss: 0.0808 - val_acc: 0.8557 - val_loss: 0.8163\n",
            "Epoch 49/120\n",
            "\u001b[1m17/17\u001b[0m \u001b[32m━━━━━━━━━━━━━━━━━━━━\u001b[0m\u001b[37m\u001b[0m \u001b[1m39s\u001b[0m 2s/step - acc: 0.9875 - loss: 0.0338 - val_acc: 0.8456 - val_loss: 0.7085\n",
            "Epoch 50/120\n",
            "\u001b[1m17/17\u001b[0m \u001b[32m━━━━━━━━━━━━━━━━━━━━\u001b[0m\u001b[37m\u001b[0m \u001b[1m41s\u001b[0m 2s/step - acc: 0.9932 - loss: 0.0174 - val_acc: 0.8490 - val_loss: 0.9058\n",
            "Epoch 51/120\n",
            "\u001b[1m17/17\u001b[0m \u001b[32m━━━━━━━━━━━━━━━━━━━━\u001b[0m\u001b[37m\u001b[0m \u001b[1m40s\u001b[0m 2s/step - acc: 0.9902 - loss: 0.0303 - val_acc: 0.7987 - val_loss: 1.4115\n",
            "Epoch 52/120\n",
            "\u001b[1m17/17\u001b[0m \u001b[32m━━━━━━━━━━━━━━━━━━━━\u001b[0m\u001b[37m\u001b[0m \u001b[1m39s\u001b[0m 2s/step - acc: 0.9811 - loss: 0.0805 - val_acc: 0.8255 - val_loss: 1.0237\n",
            "Epoch 53/120\n",
            "\u001b[1m17/17\u001b[0m \u001b[32m━━━━━━━━━━━━━━━━━━━━\u001b[0m\u001b[37m\u001b[0m \u001b[1m39s\u001b[0m 2s/step - acc: 0.9940 - loss: 0.0300 - val_acc: 0.8356 - val_loss: 1.0865\n",
            "Epoch 54/120\n",
            "\u001b[1m17/17\u001b[0m \u001b[32m━━━━━━━━━━━━━━━━━━━━\u001b[0m\u001b[37m\u001b[0m \u001b[1m0s\u001b[0m 2s/step - acc: 0.9932 - loss: 0.0354"
          ]
        },
        {
          "name": "stderr",
          "output_type": "stream",
          "text": [
            "WARNING:absl:You are saving your model as an HDF5 file via `model.save()` or `keras.saving.save_model(model)`. This file format is considered legacy. We recommend using instead the native Keras format, e.g. `model.save('my_model.keras')` or `keras.saving.save_model(model, 'my_model.keras')`. \n"
          ]
        },
        {
          "name": "stdout",
          "output_type": "stream",
          "text": [
            "\b\b\b\b\b\b\b\b\b\b\b\b\b\b\b\b\b\b\b\b\b\b\b\b\b\b\b\b\b\b\b\b\b\b\b\b\b\b\b\b\b\b\b\b\b\b\b\b\b\b\b\b\b\b\b\b\b\b\b\b\b\b\b\b\b\b\r\u001b[1m17/17\u001b[0m \u001b[32m━━━━━━━━━━━━━━━━━━━━\u001b[0m\u001b[37m\u001b[0m \u001b[1m39s\u001b[0m 2s/step - acc: 0.9929 - loss: 0.0360 - val_acc: 0.8926 - val_loss: 0.5322\n",
            "Epoch 55/120\n",
            "\u001b[1m17/17\u001b[0m \u001b[32m━━━━━━━━━━━━━━━━━━━━\u001b[0m\u001b[37m\u001b[0m \u001b[1m39s\u001b[0m 2s/step - acc: 0.9872 - loss: 0.0379 - val_acc: 0.8121 - val_loss: 1.3834\n",
            "Epoch 56/120\n",
            "\u001b[1m17/17\u001b[0m \u001b[32m━━━━━━━━━━━━━━━━━━━━\u001b[0m\u001b[37m\u001b[0m \u001b[1m39s\u001b[0m 2s/step - acc: 0.9909 - loss: 0.0299 - val_acc: 0.8557 - val_loss: 0.9187\n",
            "Epoch 57/120\n",
            "\u001b[1m17/17\u001b[0m \u001b[32m━━━━━━━━━━━━━━━━━━━━\u001b[0m\u001b[37m\u001b[0m \u001b[1m38s\u001b[0m 2s/step - acc: 0.9904 - loss: 0.0221 - val_acc: 0.8456 - val_loss: 0.8543\n",
            "Epoch 58/120\n",
            "\u001b[1m17/17\u001b[0m \u001b[32m━━━━━━━━━━━━━━━━━━━━\u001b[0m\u001b[37m\u001b[0m \u001b[1m39s\u001b[0m 2s/step - acc: 0.9881 - loss: 0.0311 - val_acc: 0.8658 - val_loss: 1.0624\n",
            "Epoch 59/120\n",
            "\u001b[1m17/17\u001b[0m \u001b[32m━━━━━━━━━━━━━━━━━━━━\u001b[0m\u001b[37m\u001b[0m \u001b[1m39s\u001b[0m 2s/step - acc: 0.9912 - loss: 0.0294 - val_acc: 0.8356 - val_loss: 1.0626\n",
            "Epoch 60/120\n",
            "\u001b[1m17/17\u001b[0m \u001b[32m━━━━━━━━━━━━━━━━━━━━\u001b[0m\u001b[37m\u001b[0m \u001b[1m39s\u001b[0m 2s/step - acc: 0.9888 - loss: 0.0359 - val_acc: 0.8826 - val_loss: 0.9106\n",
            "Epoch 61/120\n",
            "\u001b[1m17/17\u001b[0m \u001b[32m━━━━━━━━━━━━━━━━━━━━\u001b[0m\u001b[37m\u001b[0m \u001b[1m39s\u001b[0m 2s/step - acc: 0.9938 - loss: 0.0218 - val_acc: 0.8691 - val_loss: 0.8369\n",
            "Epoch 62/120\n",
            "\u001b[1m17/17\u001b[0m \u001b[32m━━━━━━━━━━━━━━━━━━━━\u001b[0m\u001b[37m\u001b[0m \u001b[1m39s\u001b[0m 2s/step - acc: 0.9866 - loss: 0.0315 - val_acc: 0.7785 - val_loss: 1.5034\n",
            "Epoch 63/120\n",
            "\u001b[1m17/17\u001b[0m \u001b[32m━━━━━━━━━━━━━━━━━━━━\u001b[0m\u001b[37m\u001b[0m \u001b[1m38s\u001b[0m 2s/step - acc: 0.9885 - loss: 0.0329 - val_acc: 0.8826 - val_loss: 0.6439\n",
            "Epoch 64/120\n",
            "\u001b[1m17/17\u001b[0m \u001b[32m━━━━━━━━━━━━━━━━━━━━\u001b[0m\u001b[37m\u001b[0m \u001b[1m0s\u001b[0m 2s/step - acc: 0.9927 - loss: 0.0148"
          ]
        },
        {
          "name": "stderr",
          "output_type": "stream",
          "text": [
            "WARNING:absl:You are saving your model as an HDF5 file via `model.save()` or `keras.saving.save_model(model)`. This file format is considered legacy. We recommend using instead the native Keras format, e.g. `model.save('my_model.keras')` or `keras.saving.save_model(model, 'my_model.keras')`. \n"
          ]
        },
        {
          "name": "stdout",
          "output_type": "stream",
          "text": [
            "\b\b\b\b\b\b\b\b\b\b\b\b\b\b\b\b\b\b\b\b\b\b\b\b\b\b\b\b\b\b\b\b\b\b\b\b\b\b\b\b\b\b\b\b\b\b\b\b\b\b\b\b\b\b\b\b\b\b\b\b\b\b\b\b\b\b\r\u001b[1m17/17\u001b[0m \u001b[32m━━━━━━━━━━━━━━━━━━━━\u001b[0m\u001b[37m\u001b[0m \u001b[1m39s\u001b[0m 2s/step - acc: 0.9928 - loss: 0.0147 - val_acc: 0.8960 - val_loss: 0.6857\n",
            "Epoch 65/120\n",
            "\u001b[1m17/17\u001b[0m \u001b[32m━━━━━━━━━━━━━━━━━━━━\u001b[0m\u001b[37m\u001b[0m \u001b[1m39s\u001b[0m 2s/step - acc: 0.9936 - loss: 0.0141 - val_acc: 0.8725 - val_loss: 0.8314\n",
            "Epoch 66/120\n",
            "\u001b[1m17/17\u001b[0m \u001b[32m━━━━━━━━━━━━━━━━━━━━\u001b[0m\u001b[37m\u001b[0m \u001b[1m41s\u001b[0m 2s/step - acc: 0.9919 - loss: 0.0239 - val_acc: 0.8591 - val_loss: 1.2944\n",
            "Epoch 67/120\n",
            "\u001b[1m17/17\u001b[0m \u001b[32m━━━━━━━━━━━━━━━━━━━━\u001b[0m\u001b[37m\u001b[0m \u001b[1m39s\u001b[0m 2s/step - acc: 0.9898 - loss: 0.0271 - val_acc: 0.8725 - val_loss: 0.9756\n",
            "Epoch 68/120\n",
            "\u001b[1m17/17\u001b[0m \u001b[32m━━━━━━━━━━━━━━━━━━━━\u001b[0m\u001b[37m\u001b[0m \u001b[1m39s\u001b[0m 2s/step - acc: 0.9848 - loss: 0.0399 - val_acc: 0.8423 - val_loss: 0.8599\n",
            "Epoch 69/120\n",
            "\u001b[1m17/17\u001b[0m \u001b[32m━━━━━━━━━━━━━━━━━━━━\u001b[0m\u001b[37m\u001b[0m \u001b[1m39s\u001b[0m 2s/step - acc: 0.9807 - loss: 0.0594 - val_acc: 0.8523 - val_loss: 0.5833\n",
            "Epoch 70/120\n",
            "\u001b[1m17/17\u001b[0m \u001b[32m━━━━━━━━━━━━━━━━━━━━\u001b[0m\u001b[37m\u001b[0m \u001b[1m40s\u001b[0m 2s/step - acc: 0.9921 - loss: 0.0328 - val_acc: 0.8624 - val_loss: 0.5923\n",
            "Epoch 71/120\n",
            "\u001b[1m17/17\u001b[0m \u001b[32m━━━━━━━━━━━━━━━━━━━━\u001b[0m\u001b[37m\u001b[0m \u001b[1m39s\u001b[0m 2s/step - acc: 0.9940 - loss: 0.0150 - val_acc: 0.8725 - val_loss: 0.6406\n",
            "Epoch 72/120\n",
            "\u001b[1m17/17\u001b[0m \u001b[32m━━━━━━━━━━━━━━━━━━━━\u001b[0m\u001b[37m\u001b[0m \u001b[1m40s\u001b[0m 2s/step - acc: 0.9839 - loss: 0.0377 - val_acc: 0.8624 - val_loss: 0.7524\n",
            "Epoch 73/120\n",
            "\u001b[1m17/17\u001b[0m \u001b[32m━━━━━━━━━━━━━━━━━━━━\u001b[0m\u001b[37m\u001b[0m \u001b[1m39s\u001b[0m 2s/step - acc: 0.9867 - loss: 0.0402 - val_acc: 0.8826 - val_loss: 0.7035\n",
            "Epoch 74/120\n",
            "\u001b[1m17/17\u001b[0m \u001b[32m━━━━━━━━━━━━━━━━━━━━\u001b[0m\u001b[37m\u001b[0m \u001b[1m40s\u001b[0m 2s/step - acc: 0.9935 - loss: 0.0358 - val_acc: 0.8859 - val_loss: 0.7726\n",
            "Epoch 75/120\n",
            "\u001b[1m17/17\u001b[0m \u001b[32m━━━━━━━━━━━━━━━━━━━━\u001b[0m\u001b[37m\u001b[0m \u001b[1m39s\u001b[0m 2s/step - acc: 0.9921 - loss: 0.0240 - val_acc: 0.8523 - val_loss: 0.8406\n",
            "Epoch 76/120\n",
            "\u001b[1m17/17\u001b[0m \u001b[32m━━━━━━━━━━━━━━━━━━━━\u001b[0m\u001b[37m\u001b[0m \u001b[1m40s\u001b[0m 2s/step - acc: 0.9817 - loss: 0.0405 - val_acc: 0.8591 - val_loss: 0.8966\n",
            "Epoch 77/120\n",
            "\u001b[1m17/17\u001b[0m \u001b[32m━━━━━━━━━━━━━━━━━━━━\u001b[0m\u001b[37m\u001b[0m \u001b[1m38s\u001b[0m 2s/step - acc: 0.9839 - loss: 0.0401 - val_acc: 0.8758 - val_loss: 0.7770\n",
            "Epoch 78/120\n",
            "\u001b[1m17/17\u001b[0m \u001b[32m━━━━━━━━━━━━━━━━━━━━\u001b[0m\u001b[37m\u001b[0m \u001b[1m39s\u001b[0m 2s/step - acc: 0.9919 - loss: 0.0277 - val_acc: 0.8591 - val_loss: 0.9965\n",
            "Epoch 79/120\n",
            "\u001b[1m17/17\u001b[0m \u001b[32m━━━━━━━━━━━━━━━━━━━━\u001b[0m\u001b[37m\u001b[0m \u001b[1m39s\u001b[0m 2s/step - acc: 0.9870 - loss: 0.0414 - val_acc: 0.8893 - val_loss: 0.7711\n",
            "Epoch 80/120\n",
            "\u001b[1m17/17\u001b[0m \u001b[32m━━━━━━━━━━━━━━━━━━━━\u001b[0m\u001b[37m\u001b[0m \u001b[1m39s\u001b[0m 2s/step - acc: 0.9925 - loss: 0.0313 - val_acc: 0.8826 - val_loss: 1.0868\n",
            "Epoch 81/120\n",
            "\u001b[1m17/17\u001b[0m \u001b[32m━━━━━━━━━━━━━━━━━━━━\u001b[0m\u001b[37m\u001b[0m \u001b[1m39s\u001b[0m 2s/step - acc: 0.9955 - loss: 0.0171 - val_acc: 0.8423 - val_loss: 1.3881\n",
            "Epoch 82/120\n",
            "\u001b[1m17/17\u001b[0m \u001b[32m━━━━━━━━━━━━━━━━━━━━\u001b[0m\u001b[37m\u001b[0m \u001b[1m38s\u001b[0m 2s/step - acc: 0.9928 - loss: 0.0179 - val_acc: 0.8758 - val_loss: 1.0422\n",
            "Epoch 83/120\n",
            "\u001b[1m17/17\u001b[0m \u001b[32m━━━━━━━━━━━━━━━━━━━━\u001b[0m\u001b[37m\u001b[0m \u001b[1m39s\u001b[0m 2s/step - acc: 0.9919 - loss: 0.0221 - val_acc: 0.8725 - val_loss: 0.9574\n",
            "Epoch 84/120\n",
            "\u001b[1m17/17\u001b[0m \u001b[32m━━━━━━━━━━━━━━━━━━━━\u001b[0m\u001b[37m\u001b[0m \u001b[1m39s\u001b[0m 2s/step - acc: 0.9838 - loss: 0.0468 - val_acc: 0.8826 - val_loss: 0.9126\n",
            "Epoch 85/120\n",
            "\u001b[1m17/17\u001b[0m \u001b[32m━━━━━━━━━━━━━━━━━━━━\u001b[0m\u001b[37m\u001b[0m \u001b[1m39s\u001b[0m 2s/step - acc: 0.9876 - loss: 0.0376 - val_acc: 0.8624 - val_loss: 0.8001\n",
            "Epoch 86/120\n",
            "\u001b[1m17/17\u001b[0m \u001b[32m━━━━━━━━━━━━━━━━━━━━\u001b[0m\u001b[37m\u001b[0m \u001b[1m39s\u001b[0m 2s/step - acc: 0.9932 - loss: 0.0173 - val_acc: 0.8658 - val_loss: 0.8677\n",
            "Epoch 87/120\n",
            "\u001b[1m17/17\u001b[0m \u001b[32m━━━━━━━━━━━━━━━━━━━━\u001b[0m\u001b[37m\u001b[0m \u001b[1m39s\u001b[0m 2s/step - acc: 0.9936 - loss: 0.0194 - val_acc: 0.8591 - val_loss: 1.1235\n",
            "Epoch 88/120\n",
            "\u001b[1m17/17\u001b[0m \u001b[32m━━━━━━━━━━━━━━━━━━━━\u001b[0m\u001b[37m\u001b[0m \u001b[1m38s\u001b[0m 2s/step - acc: 0.9891 - loss: 0.0264 - val_acc: 0.8658 - val_loss: 0.8828\n",
            "Epoch 89/120\n",
            "\u001b[1m17/17\u001b[0m \u001b[32m━━━━━━━━━━━━━━━━━━━━\u001b[0m\u001b[37m\u001b[0m \u001b[1m39s\u001b[0m 2s/step - acc: 0.9859 - loss: 0.0333 - val_acc: 0.8054 - val_loss: 1.2285\n",
            "Epoch 90/120\n",
            "\u001b[1m17/17\u001b[0m \u001b[32m━━━━━━━━━━━━━━━━━━━━\u001b[0m\u001b[37m\u001b[0m \u001b[1m38s\u001b[0m 2s/step - acc: 0.9932 - loss: 0.0203 - val_acc: 0.7886 - val_loss: 1.2476\n",
            "Epoch 91/120\n",
            "\u001b[1m17/17\u001b[0m \u001b[32m━━━━━━━━━━━━━━━━━━━━\u001b[0m\u001b[37m\u001b[0m \u001b[1m39s\u001b[0m 2s/step - acc: 0.9935 - loss: 0.0255 - val_acc: 0.8557 - val_loss: 1.0272\n",
            "Epoch 92/120\n",
            "\u001b[1m17/17\u001b[0m \u001b[32m━━━━━━━━━━━━━━━━━━━━\u001b[0m\u001b[37m\u001b[0m \u001b[1m41s\u001b[0m 2s/step - acc: 0.9938 - loss: 0.0216 - val_acc: 0.8490 - val_loss: 1.2552\n",
            "Epoch 93/120\n",
            "\u001b[1m17/17\u001b[0m \u001b[32m━━━━━━━━━━━━━━━━━━━━\u001b[0m\u001b[37m\u001b[0m \u001b[1m39s\u001b[0m 2s/step - acc: 0.9875 - loss: 0.0279 - val_acc: 0.8691 - val_loss: 1.0691\n",
            "Epoch 94/120\n",
            "\u001b[1m17/17\u001b[0m \u001b[32m━━━━━━━━━━━━━━━━━━━━\u001b[0m\u001b[37m\u001b[0m \u001b[1m39s\u001b[0m 2s/step - acc: 0.9982 - loss: 0.0082 - val_acc: 0.8557 - val_loss: 1.5251\n",
            "Epoch 95/120\n",
            "\u001b[1m17/17\u001b[0m \u001b[32m━━━━━━━━━━━━━━━━━━━━\u001b[0m\u001b[37m\u001b[0m \u001b[1m39s\u001b[0m 2s/step - acc: 0.9900 - loss: 0.0168 - val_acc: 0.8389 - val_loss: 1.6234\n",
            "Epoch 96/120\n",
            "\u001b[1m17/17\u001b[0m \u001b[32m━━━━━━━━━━━━━━━━━━━━\u001b[0m\u001b[37m\u001b[0m \u001b[1m39s\u001b[0m 2s/step - acc: 0.9934 - loss: 0.0238 - val_acc: 0.8557 - val_loss: 1.2398\n",
            "Epoch 97/120\n",
            "\u001b[1m17/17\u001b[0m \u001b[32m━━━━━━━━━━━━━━━━━━━━\u001b[0m\u001b[37m\u001b[0m \u001b[1m39s\u001b[0m 2s/step - acc: 0.9918 - loss: 0.0205 - val_acc: 0.8523 - val_loss: 0.8798\n",
            "Epoch 98/120\n",
            "\u001b[1m17/17\u001b[0m \u001b[32m━━━━━━━━━━━━━━━━━━━━\u001b[0m\u001b[37m\u001b[0m \u001b[1m40s\u001b[0m 2s/step - acc: 0.9932 - loss: 0.0237 - val_acc: 0.8490 - val_loss: 1.0459\n",
            "Epoch 99/120\n",
            "\u001b[1m17/17\u001b[0m \u001b[32m━━━━━━━━━━━━━━━━━━━━\u001b[0m\u001b[37m\u001b[0m \u001b[1m40s\u001b[0m 2s/step - acc: 0.9933 - loss: 0.0166 - val_acc: 0.8557 - val_loss: 1.0033\n",
            "Epoch 100/120\n",
            "\u001b[1m17/17\u001b[0m \u001b[32m━━━━━━━━━━━━━━━━━━━━\u001b[0m\u001b[37m\u001b[0m \u001b[1m38s\u001b[0m 2s/step - acc: 0.9962 - loss: 0.0127 - val_acc: 0.8322 - val_loss: 1.3114\n",
            "Epoch 101/120\n",
            "\u001b[1m17/17\u001b[0m \u001b[32m━━━━━━━━━━━━━━━━━━━━\u001b[0m\u001b[37m\u001b[0m \u001b[1m39s\u001b[0m 2s/step - acc: 0.9957 - loss: 0.0114 - val_acc: 0.8423 - val_loss: 0.9048\n",
            "Epoch 102/120\n",
            "\u001b[1m17/17\u001b[0m \u001b[32m━━━━━━━━━━━━━━━━━━━━\u001b[0m\u001b[37m\u001b[0m \u001b[1m39s\u001b[0m 2s/step - acc: 0.9963 - loss: 0.0084 - val_acc: 0.8624 - val_loss: 1.0079\n",
            "Epoch 103/120\n",
            "\u001b[1m17/17\u001b[0m \u001b[32m━━━━━━━━━━━━━━━━━━━━\u001b[0m\u001b[37m\u001b[0m \u001b[1m39s\u001b[0m 2s/step - acc: 0.9989 - loss: 0.0072 - val_acc: 0.8456 - val_loss: 1.4073\n",
            "Epoch 104/120\n",
            "\u001b[1m17/17\u001b[0m \u001b[32m━━━━━━━━━━━━━━━━━━━━\u001b[0m\u001b[37m\u001b[0m \u001b[1m41s\u001b[0m 2s/step - acc: 0.9980 - loss: 0.0082 - val_acc: 0.8356 - val_loss: 1.2510\n",
            "Epoch 105/120\n",
            "\u001b[1m17/17\u001b[0m \u001b[32m━━━━━━━━━━━━━━━━━━━━\u001b[0m\u001b[37m\u001b[0m \u001b[1m39s\u001b[0m 2s/step - acc: 0.9957 - loss: 0.0102 - val_acc: 0.8624 - val_loss: 0.8385\n",
            "Epoch 106/120\n",
            "\u001b[1m17/17\u001b[0m \u001b[32m━━━━━━━━━━━━━━━━━━━━\u001b[0m\u001b[37m\u001b[0m \u001b[1m38s\u001b[0m 2s/step - acc: 0.9935 - loss: 0.0182 - val_acc: 0.8523 - val_loss: 0.9148\n",
            "Epoch 107/120\n",
            "\u001b[1m17/17\u001b[0m \u001b[32m━━━━━━━━━━━━━━━━━━━━\u001b[0m\u001b[37m\u001b[0m \u001b[1m39s\u001b[0m 2s/step - acc: 0.9921 - loss: 0.0696 - val_acc: 0.8926 - val_loss: 0.7698\n",
            "Epoch 108/120\n",
            "\u001b[1m17/17\u001b[0m \u001b[32m━━━━━━━━━━━━━━━━━━━━\u001b[0m\u001b[37m\u001b[0m \u001b[1m0s\u001b[0m 2s/step - acc: 0.9964 - loss: 0.0136"
          ]
        },
        {
          "name": "stderr",
          "output_type": "stream",
          "text": [
            "WARNING:absl:You are saving your model as an HDF5 file via `model.save()` or `keras.saving.save_model(model)`. This file format is considered legacy. We recommend using instead the native Keras format, e.g. `model.save('my_model.keras')` or `keras.saving.save_model(model, 'my_model.keras')`. \n"
          ]
        },
        {
          "name": "stdout",
          "output_type": "stream",
          "text": [
            "\b\b\b\b\b\b\b\b\b\b\b\b\b\b\b\b\b\b\b\b\b\b\b\b\b\b\b\b\b\b\b\b\b\b\b\b\b\b\b\b\b\b\b\b\b\b\b\b\b\b\b\b\b\b\b\b\b\b\b\b\b\b\b\b\b\b\r\u001b[1m17/17\u001b[0m \u001b[32m━━━━━━━━━━━━━━━━━━━━\u001b[0m\u001b[37m\u001b[0m \u001b[1m42s\u001b[0m 2s/step - acc: 0.9961 - loss: 0.0142 - val_acc: 0.9027 - val_loss: 0.7815\n",
            "Epoch 109/120\n",
            "\u001b[1m17/17\u001b[0m \u001b[32m━━━━━━━━━━━━━━━━━━━━\u001b[0m\u001b[37m\u001b[0m \u001b[1m39s\u001b[0m 2s/step - acc: 0.9937 - loss: 0.0159 - val_acc: 0.8423 - val_loss: 1.2115\n",
            "Epoch 110/120\n",
            "\u001b[1m17/17\u001b[0m \u001b[32m━━━━━━━━━━━━━━━━━━━━\u001b[0m\u001b[37m\u001b[0m \u001b[1m39s\u001b[0m 2s/step - acc: 0.9888 - loss: 0.0297 - val_acc: 0.8389 - val_loss: 0.7910\n",
            "Epoch 111/120\n",
            "\u001b[1m17/17\u001b[0m \u001b[32m━━━━━━━━━━━━━━━━━━━━\u001b[0m\u001b[37m\u001b[0m \u001b[1m39s\u001b[0m 2s/step - acc: 0.9907 - loss: 0.0196 - val_acc: 0.8658 - val_loss: 0.8452\n",
            "Epoch 112/120\n",
            "\u001b[1m17/17\u001b[0m \u001b[32m━━━━━━━━━━━━━━━━━━━━\u001b[0m\u001b[37m\u001b[0m \u001b[1m39s\u001b[0m 2s/step - acc: 0.9954 - loss: 0.0123 - val_acc: 0.8557 - val_loss: 0.6404\n",
            "Epoch 113/120\n",
            "\u001b[1m17/17\u001b[0m \u001b[32m━━━━━━━━━━━━━━━━━━━━\u001b[0m\u001b[37m\u001b[0m \u001b[1m39s\u001b[0m 2s/step - acc: 0.9985 - loss: 0.0082 - val_acc: 0.8826 - val_loss: 0.6698\n",
            "Epoch 114/120\n",
            "\u001b[1m17/17\u001b[0m \u001b[32m━━━━━━━━━━━━━━━━━━━━\u001b[0m\u001b[37m\u001b[0m \u001b[1m39s\u001b[0m 2s/step - acc: 0.9965 - loss: 0.0080 - val_acc: 0.8624 - val_loss: 0.6682\n",
            "Epoch 115/120\n",
            "\u001b[1m17/17\u001b[0m \u001b[32m━━━━━━━━━━━━━━━━━━━━\u001b[0m\u001b[37m\u001b[0m \u001b[1m40s\u001b[0m 2s/step - acc: 0.9956 - loss: 0.0118 - val_acc: 0.8557 - val_loss: 0.8288\n",
            "Epoch 116/120\n",
            "\u001b[1m17/17\u001b[0m \u001b[32m━━━━━━━━━━━━━━━━━━━━\u001b[0m\u001b[37m\u001b[0m \u001b[1m39s\u001b[0m 2s/step - acc: 0.9951 - loss: 0.0290 - val_acc: 0.8624 - val_loss: 0.7446\n",
            "Epoch 117/120\n",
            "\u001b[1m17/17\u001b[0m \u001b[32m━━━━━━━━━━━━━━━━━━━━\u001b[0m\u001b[37m\u001b[0m \u001b[1m39s\u001b[0m 2s/step - acc: 0.9810 - loss: 0.0378 - val_acc: 0.8456 - val_loss: 0.8635\n",
            "Epoch 118/120\n",
            "\u001b[1m17/17\u001b[0m \u001b[32m━━━━━━━━━━━━━━━━━━━━\u001b[0m\u001b[37m\u001b[0m \u001b[1m39s\u001b[0m 2s/step - acc: 0.9925 - loss: 0.0235 - val_acc: 0.8658 - val_loss: 0.8835\n",
            "Epoch 119/120\n",
            "\u001b[1m17/17\u001b[0m \u001b[32m━━━━━━━━━━━━━━━━━━━━\u001b[0m\u001b[37m\u001b[0m \u001b[1m41s\u001b[0m 2s/step - acc: 0.9907 - loss: 0.0260 - val_acc: 0.8792 - val_loss: 1.1034\n",
            "Epoch 120/120\n",
            "\u001b[1m17/17\u001b[0m \u001b[32m━━━━━━━━━━━━━━━━━━━━\u001b[0m\u001b[37m\u001b[0m \u001b[1m38s\u001b[0m 2s/step - acc: 0.9978 - loss: 0.0128 - val_acc: 0.8691 - val_loss: 1.1600\n"
          ]
        }
      ],
      "source": [
        "# Model Tambahan dan Training\n",
        "x = layers.GlobalAveragePooling2D()(last_layer_output)\n",
        "x = layers.Dense(128, activation='relu')(x)\n",
        "x = layers.Dropout(0.2)(x)\n",
        "x = layers.Dense(64, activation='relu')(x)\n",
        "x = layers.Dropout(0.1)(x)\n",
        "x = layers.Dense(3, activation='softmax')(x)\n",
        "\n",
        "model = Model(pre_trained_model.input, x)\n",
        "\n",
        "model.compile(optimizer=Adam(learning_rate=0.001),\n",
        "              loss='categorical_crossentropy',\n",
        "              metrics=['acc'])\n",
        "\n",
        "model_checkpoint = tf.keras.callbacks.ModelCheckpoint(\n",
        "    'Xception_model.h5',\n",
        "    monitor='val_acc',\n",
        "    save_best_only=True\n",
        ")\n",
        "\n",
        "history = model.fit(\n",
        "    train_generator,\n",
        "    epochs=120,\n",
        "    validation_data=validation_generator,\n",
        "    callbacks=[model_checkpoint]\n",
        ")\n"
      ]
    },
    {
      "cell_type": "code",
      "execution_count": null,
      "metadata": {
        "colab": {
          "base_uri": "https://localhost:8080/"
        },
        "id": "ft3GBAX_ujPH",
        "outputId": "409e1d90-b61d-45da-8605-a56616b6820f"
      },
      "outputs": [],
      "source": [
        "train_path = os.path.join(base_dir, \"Dataset/train\")\n",
        "val_path = os.path.join(base_dir, \"Dataset/validation\")\n",
        "test_path = os.path.join(base_dir, \"Dataset/test\")\n",
        "\n",
        "train_datagen = ImageDataGenerator(rescale=1.0 / 255.0)\n",
        "train_generator = train_datagen.flow_from_directory(\n",
        "    train_path,\n",
        "    target_size=(299, 299),\n",
        "    batch_size=128,\n",
        "    class_mode='categorical'\n",
        ")\n",
        "\n",
        "validation_datagen = ImageDataGenerator(rescale=1.0 / 255.0)\n",
        "validation_generator = validation_datagen.flow_from_directory(\n",
        "    val_path,\n",
        "    target_size=(299, 299),\n",
        "    batch_size=128,\n",
        "    class_mode='categorical'\n",
        ")\n",
        "\n",
        "test_datagen = ImageDataGenerator(rescale=1.0 / 255.0)\n",
        "test_generator = test_datagen.flow_from_directory(\n",
        "    test_path,\n",
        "    target_size=(299, 299),\n",
        "    batch_size=128,\n",
        "    class_mode='categorical'\n",
        ")\n",
        "\n",
        "model = tf.keras.models.load_model('Xception_model.h5')\n",
        "\n",
        "train_loss, train_acc = model.evaluate(train_generator, verbose=1)\n",
        "val_loss, val_acc = model.evaluate(validation_generator, verbose=1)\n",
        "test_loss, test_acc = model.evaluate(test_generator, verbose=1)\n",
        "\n",
        "print(f\"Train Accuracy: {train_acc:.4f}, Loss: {train_loss:.4f}\")\n",
        "print(f\"Validation Accuracy: {val_acc:.4f}, Loss: {val_loss:.4f}\")\n",
        "print(f\"Test Accuracy: {test_acc:.4f}, Loss: {test_loss:.4f}\")"
      ]
    },
    {
      "cell_type": "code",
      "execution_count": null,
      "metadata": {
        "colab": {
          "base_uri": "https://localhost:8080/",
          "height": 905
        },
        "id": "ecYxaGJ6wHic",
        "outputId": "c43ee583-93cd-4fcb-9051-d193e3e61d23"
      },
      "outputs": [],
      "source": [
        "import matplotlib.pyplot as plt\n",
        "\n",
        "# Ambil riwayat dari training\n",
        "acc = history.history['acc']\n",
        "val_acc = history.history['val_acc']\n",
        "loss = history.history['loss']\n",
        "val_loss = history.history['val_loss']\n",
        "epochs = range(1, len(acc) + 1)\n",
        "\n",
        "# Plot Akurasi\n",
        "plt.figure(figsize=(10, 4))\n",
        "plt.subplot(1, 2, 1)\n",
        "plt.plot(epochs, acc, 'r', label='Training Accuracy')\n",
        "plt.plot(epochs, val_acc, 'b', label='Validation Accuracy')\n",
        "plt.title('Accuracy - Xception Model')\n",
        "plt.xlabel('Epochs')\n",
        "plt.ylabel('Accuracy')\n",
        "plt.legend()\n",
        "\n",
        "# Plot Loss\n",
        "plt.subplot(1, 2, 2)\n",
        "plt.plot(epochs, loss, 'r', label='Training Loss')\n",
        "plt.plot(epochs, val_loss, 'b', label='Validation Loss')\n",
        "plt.title('Loss - Xception Model')\n",
        "plt.xlabel('Epochs')\n",
        "plt.ylabel('Loss')\n",
        "plt.legend()\n",
        "\n",
        "plt.tight_layout()\n",
        "plt.show()"
      ]
    },
    {
      "cell_type": "code",
      "execution_count": null,
      "metadata": {},
      "outputs": [],
      "source": [
        "import os\n",
        "import cv2\n",
        "import numpy as np\n",
        "import matplotlib.pyplot as plt\n",
        "import seaborn as sns\n",
        "import pandas as pd\n",
        "from sklearn.metrics import confusion_matrix, classification_report\n",
        "from tensorflow import keras\n",
        "from tensorflow.keras.preprocessing.image import img_to_array, load_img\n",
        "from tensorflow.keras.utils import to_categorical"
      ]
    },
    {
      "cell_type": "code",
      "execution_count": null,
      "metadata": {
        "colab": {
          "base_uri": "https://localhost:8080/",
          "height": 893
        },
        "id": "qeoPinkjwbaw",
        "outputId": "6a0285f2-36cc-4185-f7ce-926c440747ce"
      },
      "outputs": [],
      "source": [
        "def load_and_process_image(image_path, target_size=(299, 299)):\n",
        "    img = load_img(image_path, target_size=target_size)\n",
        "    img_array = img_to_array(img) / 255.0\n",
        "    return img_array\n",
        "\n",
        "def load_test_data(test_dir, class_names):\n",
        "    data = []\n",
        "    labels = []\n",
        "    class_mapping = {name: idx for idx, name in enumerate(class_names)}\n",
        "    for class_name in class_names:\n",
        "        class_path = os.path.join(test_dir, class_name)\n",
        "        if not os.path.isdir(class_path):\n",
        "            print(f\"Warning: Folder {class_path} not found.\")\n",
        "            continue\n",
        "        for image_name in os.listdir(class_path):\n",
        "            image_path = os.path.join(class_path, image_name)\n",
        "            try:\n",
        "                data.append(load_and_process_image(image_path))\n",
        "                labels.append(class_mapping[class_name])\n",
        "            except Exception as e:\n",
        "                print(f\"Error loading image {image_path}: {e}\")\n",
        "    return np.array(data), np.array(labels)"
      ]
    },
    {
      "cell_type": "code",
      "execution_count": null,
      "metadata": {},
      "outputs": [],
      "source": [
        "test_data_dir = val_path\n",
        "class_names = sorted(os.listdir(test_data_dir))\n",
        "X_test, y_test = load_test_data(test_data_dir, class_names)\n",
        "\n",
        "model = keras.models.load_model('Xception_model.h5')\n",
        "\n",
        "y_pred = model.predict(X_test)\n",
        "y_pred_classes = np.argmax(y_pred, axis=1)\n",
        "y_true_classes = np.argmax(to_categorical(y_test, num_classes=len(class_names)), axis=1)\n",
        "\n",
        "conf_matrix = confusion_matrix(y_true_classes, y_pred_classes)\n",
        "class_report = classification_report(y_true_classes, y_pred_classes, target_names=class_names)\n",
        "\n",
        "plt.figure(figsize=(8, 6))\n",
        "sns.heatmap(conf_matrix, annot=True, fmt='d', cmap='Blues',\n",
        "            xticklabels=class_names, yticklabels=class_names)\n",
        "plt.title('Confusion Matrix - Xception Model (Validation)')\n",
        "plt.xlabel('Predicted Label')\n",
        "plt.ylabel('True Label')\n",
        "plt.tight_layout()\n",
        "plt.show()\n",
        "\n",
        "print(\"\\nClassification Report (Validation Data):\")\n",
        "print(class_report)"
      ]
    },
    {
      "cell_type": "code",
      "execution_count": null,
      "metadata": {
        "colab": {
          "base_uri": "https://localhost:8080/",
          "height": 856
        },
        "id": "EDWqkLIqxJ-c",
        "outputId": "38033bba-e913-4b51-d165-8ab1322b2f82"
      },
      "outputs": [],
      "source": [
        "test_data_dir = train_path\n",
        "class_names = sorted(os.listdir(test_data_dir))\n",
        "X_test, y_test = load_test_data(test_data_dir, class_names)\n",
        "\n",
        "y_pred = model.predict(X_test)\n",
        "y_pred_classes = np.argmax(y_pred, axis=1)\n",
        "y_true_classes = np.argmax(to_categorical(y_test, num_classes=len(class_names)), axis=1)\n",
        "\n",
        "conf_matrix = confusion_matrix(y_true_classes, y_pred_classes)\n",
        "class_report = classification_report(y_true_classes, y_pred_classes, target_names=class_names)\n",
        "\n",
        "plt.figure(figsize=(8, 6))\n",
        "sns.heatmap(conf_matrix, annot=True, fmt='d', cmap='Blues',\n",
        "            xticklabels=class_names, yticklabels=class_names)\n",
        "plt.title('Confusion Matrix - Xception Model (Training)')\n",
        "plt.xlabel('Predicted Label')\n",
        "plt.ylabel('True Label')\n",
        "plt.tight_layout()\n",
        "plt.show()\n",
        "\n",
        "print(\"\\nClassification Report (Training Data):\")\n",
        "print(class_report)"
      ]
    },
    {
      "cell_type": "code",
      "execution_count": null,
      "metadata": {
        "colab": {
          "base_uri": "https://localhost:8080/",
          "height": 874
        },
        "id": "R1PyEO1fxkL3",
        "outputId": "ce6bba69-2993-42bd-9e0c-c6f8fb3c09c2"
      },
      "outputs": [],
      "source": [
        "test_data_dir = test_path\n",
        "class_names = sorted(os.listdir(test_data_dir))\n",
        "X_test, y_test = load_test_data(test_data_dir, class_names)\n",
        "\n",
        "y_pred = model.predict(X_test)\n",
        "y_pred_classes = np.argmax(y_pred, axis=1)\n",
        "y_true_classes = np.argmax(to_categorical(y_test, num_classes=len(class_names)), axis=1)\n",
        "\n",
        "conf_matrix = confusion_matrix(y_true_classes, y_pred_classes)\n",
        "class_report = classification_report(y_true_classes, y_pred_classes, target_names=class_names)\n",
        "\n",
        "plt.figure(figsize=(8, 6))\n",
        "sns.heatmap(conf_matrix, annot=True, fmt='d', cmap='Blues',\n",
        "            xticklabels=class_names, yticklabels=class_names)\n",
        "plt.title('Confusion Matrix - Xception Model (Test)')\n",
        "plt.xlabel('Predicted Label')\n",
        "plt.ylabel('True Label')\n",
        "plt.tight_layout()\n",
        "plt.show()\n",
        "\n",
        "print(\"\\nClassification Report (Test Data):\")\n",
        "print(class_report)"
      ]
    }
  ],
  "metadata": {
    "accelerator": "GPU",
    "colab": {
      "gpuType": "T4",
      "provenance": []
    },
    "kernelspec": {
      "display_name": "Python 3",
      "name": "python3"
    },
    "language_info": {
      "name": "python"
    }
  },
  "nbformat": 4,
  "nbformat_minor": 0
}
